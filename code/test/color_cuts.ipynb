{
 "cells": [
  {
   "cell_type": "code",
   "execution_count": 1,
   "metadata": {},
   "outputs": [],
   "source": [
    "import numpy as np\n",
    "import matplotlib.pyplot as plt\n",
    "%matplotlib inline\n",
    "\n",
    "from color_spectrum import Spectrum"
   ]
  },
  {
   "cell_type": "code",
   "execution_count": 2,
   "metadata": {},
   "outputs": [
    {
     "data": {
      "text/plain": [
       "<Figure size 288x432 with 0 Axes>"
      ]
     },
     "metadata": {},
     "output_type": "display_data"
    }
   ],
   "source": [
    "spec = Spectrum()\n",
    "spec._init_empty_colormeshes()\n",
    "spec._colorize_colormeshes()"
   ]
  },
  {
   "cell_type": "code",
   "execution_count": 3,
   "metadata": {},
   "outputs": [],
   "source": [
    "# name = \"red green blue white\"\n",
    "# rgbb = spec.get_colormesh(name)\n",
    "# orig = rgbb[name].copy()"
   ]
  },
  {
   "cell_type": "code",
   "execution_count": 4,
   "metadata": {},
   "outputs": [],
   "source": [
    "# mask = orig[:, :, 0] > 0.8 * orig[:, :, 1]**3 + 0.4"
   ]
  },
  {
   "cell_type": "code",
   "execution_count": 5,
   "metadata": {},
   "outputs": [],
   "source": [
    "# cut = orig.copy()\n",
    "# cut[mask] = 0"
   ]
  },
  {
   "cell_type": "code",
   "execution_count": 6,
   "metadata": {},
   "outputs": [],
   "source": [
    "# fig, (ax_orig, ax_cut) = plt.subplots(ncols=2)\n",
    "# ax_orig.imshow(orig, origin=\"lower\")\n",
    "# ax_orig.set_title(\"Original\")\n",
    "# ax_orig.set_xlabel(\"R\")\n",
    "# ax_orig.set_ylabel(\"G\")\n",
    "# ax_cut.imshow(cut, origin=\"lower\")\n",
    "# ax_cut.set_title(r\"$R < 0.8 \\cdot G^2$\")\n",
    "# ax_cut.set_xlabel(\"R\")\n",
    "# ax_cut.set_ylabel(\"G\")\n",
    "# fig.tight_layout()\n",
    "# fig.savefig(\"/tmp/cut.png\")"
   ]
  },
  {
   "cell_type": "code",
   "execution_count": 7,
   "metadata": {},
   "outputs": [],
   "source": [
    "def plot_orig_cut(mesh, color0 = 0, color1 = 1, factor = 0, offset = 0, exponent = 1, mantisse = 1, dark=True):\n",
    "    \"\"\"Plots original and cut colormesh side to side.\n",
    "    \n",
    "    Parameter:\n",
    "        mesh: numpy.ndarray with shape (256, 256, 3)\n",
    "        dark: boolean if mesh is darker or lighter\n",
    "        cut: dictinary\n",
    "            \n",
    "    \"\"\"\n",
    "    fig, (ax_orig, ax_cut) = plt.subplots(ncols=2, figsize=(8, 4))\n",
    "    colors = {0: \"R\", 1: \"G\", 2: \"B\"}\n",
    "    \n",
    "    x0 = color0\n",
    "    x1 = color1\n",
    "    a = factor\n",
    "    o = offset\n",
    "    e = exponent\n",
    "    m = mantisse\n",
    "    mask = orig[:, :, x0] > a * (orig[:, :, x1] + o) ** e + m\n",
    "    \n",
    "    cut = mesh.copy()\n",
    "    cut[mask] = 1 if dark else 0\n",
    "    \n",
    "    ax_orig.imshow(mesh, origin=\"lower\")\n",
    "    ax_orig.set_title(\"Original\")\n",
    "    ax_orig.set_xlabel(colors[x0])\n",
    "    ax_orig.set_ylabel(colors[x1])\n",
    "    ax_cut.imshow(cut, origin=\"lower\")\n",
    "    ax_cut.set_title(r\"Cut-Out: ${} > {} \\cdot ({} + {}) ^ {} + {}$\".format(colors[x0], a, colors[x1], o, e, m))\n",
    "    ax_cut.set_xlabel(colors[x0])\n",
    "    ax_cut.set_ylabel(colors[x1])\n",
    "    \n",
    "    fig.tight_layout()\n",
    "    \n",
    "    return fig, cut"
   ]
  },
  {
   "cell_type": "code",
   "execution_count": 8,
   "metadata": {},
   "outputs": [
    {
     "data": {
      "image/png": "[encoded data removed]",
      "text/plain": [
       "<Figure size 576x288 with 2 Axes>"
      ]
     },
     "metadata": {},
     "output_type": "display_data"
    }
   ],
   "source": [
    "name = \"red green blue white\"\n",
    "rgbb = spec.get_colormesh(name)\n",
    "orig = rgbb[name].copy()\n",
    "fig, cut = plot_orig_cut(mesh=orig, **{\"color0\": 0, \"color1\": 1, \"factor\": 1.1, \"exponent\": 4, \"mantisse\": 0.3}, dark=False)\n",
    "fig.savefig(\"/tmp/cut.png\")"
   ]
  },
  {
   "cell_type": "code",
   "execution_count": 13,
   "metadata": {},
   "outputs": [
    {
     "data": {
      "image/png": "[encoded data removed]",
      "text/plain": [
       "<Figure size 576x288 with 2 Axes>"
      ]
     },
     "metadata": {},
     "output_type": "display_data"
    }
   ],
   "source": [
    "name = \"green blue red black\"\n",
    "rgbb = spec.get_colormesh(name)\n",
    "orig = rgbb[name].copy()\n",
    "fig, cut = plot_orig_cut(orig, **{\"color0\": 1, \"color1\": 2, \"factor\": 1, \"exponent\": 3, \"mantisse\": 0.15, \"offset\": 0.1}, dark=True)\n",
    "\n",
    "fig.savefig(\"/tmp/cut.png\")"
   ]
  },
  {
   "cell_type": "code",
   "execution_count": 12,
   "metadata": {},
   "outputs": [
    {
     "data": {
      "image/png": "[encoded data removed]",
      "text/plain": [
       "<Figure size 576x288 with 2 Axes>"
      ]
     },
     "metadata": {},
     "output_type": "display_data"
    }
   ],
   "source": [
    "name = \"blue red green white\"\n",
    "rgbb = spec.get_colormesh(name)\n",
    "orig = rgbb[name].copy()\n",
    "fig, cut = plot_orig_cut(orig, **{\"color0\": 1, \"color1\": 2, \"factor\": 1, \"exponent\": 3, \"mantisse\": 0.15, \"offset\": 0.1}, dark=False)\n",
    "\n",
    "fig.savefig(\"/tmp/cut.png\")"
   ]
  }
 ],
 "metadata": {
  "kernelspec": {
   "display_name": "Python 3",
   "language": "python",
   "name": "python3"
  },
  "language_info": {
   "codemirror_mode": {
    "name": "ipython",
    "version": 3
   },
   "file_extension": ".py",
   "mimetype": "text/x-python",
   "name": "python",
   "nbconvert_exporter": "python",
   "pygments_lexer": "ipython3",
   "version": "3.6.6"
  }
 },
 "nbformat": 4,
 "nbformat_minor": 2
}
